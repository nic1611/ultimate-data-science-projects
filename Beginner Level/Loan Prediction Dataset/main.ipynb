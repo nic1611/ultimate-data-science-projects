{
  "nbformat": 4,
  "nbformat_minor": 0,
  "metadata": {
    "colab": {
      "name": "main.ipynb",
      "provenance": []
    },
    "kernelspec": {
      "name": "python3",
      "display_name": "Python 3"
    }
  },
  "cells": [
    {
      "cell_type": "code",
      "metadata": {
        "id": "xVWrFXPpc7Mk"
      },
      "source": [
        "# required libraries\r\n",
        "import pandas as pd\r\n",
        "from sklearn.linear_model import LogisticRegression\r\n",
        "from sklearn.model_selection import train_test_split\r\n",
        "from sklearn.preprocessing import LabelEncoder\r\n",
        "from sklearn.metrics import accuracy_score\r\n"
      ],
      "execution_count": 1,
      "outputs": []
    },
    {
      "cell_type": "code",
      "metadata": {
        "colab": {
          "base_uri": "https://localhost:8080/"
        },
        "id": "-jHw0sfNd1h-",
        "outputId": "144ab3dc-f40f-4c6e-c5c6-d11a73ebbb25"
      },
      "source": [
        "# read the dataset\r\n",
        "data = pd.read_csv('train_ctrUa4K.csv')\r\n",
        "print(data.head())"
      ],
      "execution_count": 3,
      "outputs": [
        {
          "output_type": "stream",
          "text": [
            "    Loan_ID Gender Married  ... Credit_History Property_Area Loan_Status\n",
            "0  LP001002   Male      No  ...            1.0         Urban           Y\n",
            "1  LP001003   Male     Yes  ...            1.0         Rural           N\n",
            "2  LP001005   Male     Yes  ...            1.0         Urban           Y\n",
            "3  LP001006   Male     Yes  ...            1.0         Urban           Y\n",
            "4  LP001008   Male      No  ...            1.0         Urban           Y\n",
            "\n",
            "[5 rows x 13 columns]\n"
          ],
          "name": "stdout"
        }
      ]
    },
    {
      "cell_type": "code",
      "metadata": {
        "colab": {
          "base_uri": "https://localhost:8080/"
        },
        "id": "7Yd139AUd5NA",
        "outputId": "ccf1ac08-79fb-40bc-a59e-f8f70e6ad584"
      },
      "source": [
        "print('\\n\\nColumn Names\\n\\n')\r\n",
        "print(data.columns)"
      ],
      "execution_count": 4,
      "outputs": [
        {
          "output_type": "stream",
          "text": [
            "\n",
            "\n",
            "Column Names\n",
            "\n",
            "\n",
            "Index(['Loan_ID', 'Gender', 'Married', 'Dependents', 'Education',\n",
            "       'Self_Employed', 'ApplicantIncome', 'CoapplicantIncome', 'LoanAmount',\n",
            "       'Loan_Amount_Term', 'Credit_History', 'Property_Area', 'Loan_Status'],\n",
            "      dtype='object')\n"
          ],
          "name": "stdout"
        }
      ]
    },
    {
      "cell_type": "code",
      "metadata": {
        "id": "7ZOqyGzQd_G0"
      },
      "source": [
        "#label encode the target variable\r\n",
        "encode = LabelEncoder()\r\n",
        "data.Loan_Status = encode.fit_transform(data.Loan_Status)"
      ],
      "execution_count": 5,
      "outputs": []
    },
    {
      "cell_type": "code",
      "metadata": {
        "id": "E-CqFTLWeNjv"
      },
      "source": [
        "# drop the null values\r\n",
        "data.dropna(how='any',inplace=True)"
      ],
      "execution_count": 6,
      "outputs": []
    },
    {
      "cell_type": "code",
      "metadata": {
        "id": "dZuan0e-eRuA"
      },
      "source": [
        "# train-test-split   \r\n",
        "train , test = train_test_split(data,test_size=0.2,random_state=0)"
      ],
      "execution_count": 7,
      "outputs": []
    },
    {
      "cell_type": "code",
      "metadata": {
        "id": "Pmgkvl0VeVPs"
      },
      "source": [
        "# seperate the target and independent variable\r\n",
        "train_x = train.drop(columns=['Loan_ID','Loan_Status'],axis=1)\r\n",
        "train_y = train['Loan_Status']"
      ],
      "execution_count": 8,
      "outputs": []
    },
    {
      "cell_type": "code",
      "metadata": {
        "id": "mLreSFL3ec7O"
      },
      "source": [
        "test_x = test.drop(columns=['Loan_ID','Loan_Status'],axis=1)\r\n",
        "test_y = test['Loan_Status']"
      ],
      "execution_count": 9,
      "outputs": []
    },
    {
      "cell_type": "code",
      "metadata": {
        "id": "xZI5rXcAehTO"
      },
      "source": [
        "# encode the data\r\n",
        "train_x = pd.get_dummies(train_x)\r\n",
        "test_x  = pd.get_dummies(test_x)"
      ],
      "execution_count": 10,
      "outputs": []
    },
    {
      "cell_type": "code",
      "metadata": {
        "colab": {
          "base_uri": "https://localhost:8080/"
        },
        "id": "BboyfVdjelaG",
        "outputId": "00110170-2b41-4a37-c158-6137fb169093"
      },
      "source": [
        "print('shape of training data : ',train_x.shape)\r\n",
        "print('shape of testing data : ',test_x.shape)"
      ],
      "execution_count": 11,
      "outputs": [
        {
          "output_type": "stream",
          "text": [
            "shape of training data :  (384, 20)\n",
            "shape of testing data :  (96, 20)\n"
          ],
          "name": "stdout"
        }
      ]
    },
    {
      "cell_type": "code",
      "metadata": {
        "id": "0m16emDofNmR"
      },
      "source": [
        "# create the object of the model\r\n",
        "model = LogisticRegression()"
      ],
      "execution_count": 12,
      "outputs": []
    },
    {
      "cell_type": "code",
      "metadata": {
        "colab": {
          "base_uri": "https://localhost:8080/"
        },
        "id": "JdcXTqZTfRyB",
        "outputId": "db359f05-7ba6-4e4c-ad2f-b290ead11a8c"
      },
      "source": [
        "model.fit(train_x,train_y, 500)"
      ],
      "execution_count": 14,
      "outputs": [
        {
          "output_type": "execute_result",
          "data": {
            "text/plain": [
              "LogisticRegression(C=1.0, class_weight=None, dual=False, fit_intercept=True,\n",
              "                   intercept_scaling=1, l1_ratio=None, max_iter=100,\n",
              "                   multi_class='auto', n_jobs=None, penalty='l2',\n",
              "                   random_state=None, solver='lbfgs', tol=0.0001, verbose=0,\n",
              "                   warm_start=False)"
            ]
          },
          "metadata": {
            "tags": []
          },
          "execution_count": 14
        }
      ]
    },
    {
      "cell_type": "code",
      "metadata": {
        "id": "Dk6aZ9SUfU3M"
      },
      "source": [
        "predict = model.predict(test_x)"
      ],
      "execution_count": 15,
      "outputs": []
    },
    {
      "cell_type": "code",
      "metadata": {
        "colab": {
          "base_uri": "https://localhost:8080/"
        },
        "id": "MZeBFoiFfmet",
        "outputId": "bd7e4306-355f-4961-961a-6b4d5ae3103d"
      },
      "source": [
        "print('Predicted Values on Test Data',predict)\r\n",
        "print('Predicted Values on Test Data',encode.fit_transform(test_y))\r\n",
        "\r\n",
        "print('\\n\\nAccuracy Score on test data : \\n\\n')\r\n",
        "print(accuracy_score(test_y,predict))"
      ],
      "execution_count": 18,
      "outputs": [
        {
          "output_type": "stream",
          "text": [
            "Predicted Values on Test Data [1 1 1 1 1 1 1 1 1 1 1 1 0 1 1 1 1 1 0 1 1 1 1 1 0 1 1 1 1 1 1 1 1 1 1 1 1\n",
            " 1 1 0 1 1 1 1 1 1 1 1 1 1 1 1 1 1 1 1 0 0 0 0 1 1 1 1 1 1 1 1 1 1 1 1 1 1\n",
            " 1 1 1 1 1 1 1 1 1 0 1 1 0 1 1 0 1 0 0 1 1 1]\n",
            "Predicted Values on Test Data [0 0 1 0 0 0 1 1 0 1 1 0 0 1 0 1 1 1 0 1 1 0 1 1 1 0 1 1 1 1 1 1 1 0 1 1 1\n",
            " 1 1 0 1 1 1 1 0 1 1 1 1 1 1 0 1 0 1 1 0 0 0 0 1 1 0 1 0 1 0 1 1 1 1 1 1 0\n",
            " 1 1 1 1 0 0 0 1 1 0 1 0 0 1 1 0 0 0 1 1 0 1]\n",
            "\n",
            "\n",
            "Accuracy Score on test data : \n",
            "\n",
            "\n",
            "0.7291666666666666\n"
          ],
          "name": "stdout"
        }
      ]
    }
  ]
}